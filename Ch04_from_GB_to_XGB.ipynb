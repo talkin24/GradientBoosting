{
  "nbformat": 4,
  "nbformat_minor": 0,
  "metadata": {
    "colab": {
      "name": "Ch04_from GB to XGB.ipynb",
      "provenance": [],
      "collapsed_sections": [],
      "authorship_tag": "ABX9TyO/2PyXoD0zzq0C3Iymmb5Y",
      "include_colab_link": true
    },
    "kernelspec": {
      "name": "python3",
      "display_name": "Python 3"
    },
    "language_info": {
      "name": "python"
    }
  },
  "cells": [
    {
      "cell_type": "markdown",
      "metadata": {
        "id": "view-in-github",
        "colab_type": "text"
      },
      "source": [
        "<a href=\"https://colab.research.google.com/github/talkin24/GradientBoosting/blob/main/Ch04_from_GB_to_XGB.ipynb\" target=\"_parent\"><img src=\"https://colab.research.google.com/assets/colab-badge.svg\" alt=\"Open In Colab\"/></a>"
      ]
    },
    {
      "cell_type": "code",
      "execution_count": 1,
      "metadata": {
        "colab": {
          "base_uri": "https://localhost:8080/"
        },
        "id": "GM7y89AHcPJJ",
        "outputId": "711abc9d-23c1-4ccd-dfa3-526c495c5980"
      },
      "outputs": [
        {
          "output_type": "stream",
          "name": "stdout",
          "text": [
            "Mounted at /content/drive\n",
            "/content/drive/MyDrive/GradientBoosting\n"
          ]
        }
      ],
      "source": [
        "from google.colab import drive\n",
        "drive.mount('/content/drive', force_remount=True)\n",
        "\n",
        "%cd /content/drive/MyDrive/GradientBoosting"
      ]
    },
    {
      "cell_type": "code",
      "source": [
        "import pandas as pd\n",
        "import numpy as np\n",
        "import warnings\n",
        "\n",
        "warnings.filterwarnings('ignore')\n",
        "\n",
        "import xgboost as xgb\n",
        "# xgb.set_config(verbosity=0)"
      ],
      "metadata": {
        "id": "k7tNlkbOcbI-"
      },
      "execution_count": 2,
      "outputs": []
    },
    {
      "cell_type": "code",
      "source": [
        "df_bikes = pd.read_csv('./bike_rentals_cleaned.csv')\n",
        "df_bikes.head()"
      ],
      "metadata": {
        "colab": {
          "base_uri": "https://localhost:8080/",
          "height": 206
        },
        "id": "GPKtcq0Zesux",
        "outputId": "fc338b17-7c8d-4ea5-871f-a5cd3f1462fa"
      },
      "execution_count": 3,
      "outputs": [
        {
          "output_type": "execute_result",
          "data": {
            "text/plain": [
              "   instant  season   yr  mnth  holiday  weekday  workingday  weathersit  \\\n",
              "0        1     1.0  0.0   1.0      0.0      6.0         0.0           2   \n",
              "1        2     1.0  0.0   1.0      0.0      0.0         0.0           2   \n",
              "2        3     1.0  0.0   1.0      0.0      1.0         1.0           1   \n",
              "3        4     1.0  0.0   1.0      0.0      2.0         1.0           1   \n",
              "4        5     1.0  0.0   1.0      0.0      3.0         1.0           1   \n",
              "\n",
              "       temp     atemp       hum  windspeed   cnt  \n",
              "0  0.344167  0.363625  0.805833   0.160446   985  \n",
              "1  0.363478  0.353739  0.696087   0.248539   801  \n",
              "2  0.196364  0.189405  0.437273   0.248309  1349  \n",
              "3  0.200000  0.212122  0.590435   0.160296  1562  \n",
              "4  0.226957  0.229270  0.436957   0.186900  1600  "
            ],
            "text/html": [
              "\n",
              "  <div id=\"df-83d19f3f-cac5-4431-aefc-c0082f123cf3\">\n",
              "    <div class=\"colab-df-container\">\n",
              "      <div>\n",
              "<style scoped>\n",
              "    .dataframe tbody tr th:only-of-type {\n",
              "        vertical-align: middle;\n",
              "    }\n",
              "\n",
              "    .dataframe tbody tr th {\n",
              "        vertical-align: top;\n",
              "    }\n",
              "\n",
              "    .dataframe thead th {\n",
              "        text-align: right;\n",
              "    }\n",
              "</style>\n",
              "<table border=\"1\" class=\"dataframe\">\n",
              "  <thead>\n",
              "    <tr style=\"text-align: right;\">\n",
              "      <th></th>\n",
              "      <th>instant</th>\n",
              "      <th>season</th>\n",
              "      <th>yr</th>\n",
              "      <th>mnth</th>\n",
              "      <th>holiday</th>\n",
              "      <th>weekday</th>\n",
              "      <th>workingday</th>\n",
              "      <th>weathersit</th>\n",
              "      <th>temp</th>\n",
              "      <th>atemp</th>\n",
              "      <th>hum</th>\n",
              "      <th>windspeed</th>\n",
              "      <th>cnt</th>\n",
              "    </tr>\n",
              "  </thead>\n",
              "  <tbody>\n",
              "    <tr>\n",
              "      <th>0</th>\n",
              "      <td>1</td>\n",
              "      <td>1.0</td>\n",
              "      <td>0.0</td>\n",
              "      <td>1.0</td>\n",
              "      <td>0.0</td>\n",
              "      <td>6.0</td>\n",
              "      <td>0.0</td>\n",
              "      <td>2</td>\n",
              "      <td>0.344167</td>\n",
              "      <td>0.363625</td>\n",
              "      <td>0.805833</td>\n",
              "      <td>0.160446</td>\n",
              "      <td>985</td>\n",
              "    </tr>\n",
              "    <tr>\n",
              "      <th>1</th>\n",
              "      <td>2</td>\n",
              "      <td>1.0</td>\n",
              "      <td>0.0</td>\n",
              "      <td>1.0</td>\n",
              "      <td>0.0</td>\n",
              "      <td>0.0</td>\n",
              "      <td>0.0</td>\n",
              "      <td>2</td>\n",
              "      <td>0.363478</td>\n",
              "      <td>0.353739</td>\n",
              "      <td>0.696087</td>\n",
              "      <td>0.248539</td>\n",
              "      <td>801</td>\n",
              "    </tr>\n",
              "    <tr>\n",
              "      <th>2</th>\n",
              "      <td>3</td>\n",
              "      <td>1.0</td>\n",
              "      <td>0.0</td>\n",
              "      <td>1.0</td>\n",
              "      <td>0.0</td>\n",
              "      <td>1.0</td>\n",
              "      <td>1.0</td>\n",
              "      <td>1</td>\n",
              "      <td>0.196364</td>\n",
              "      <td>0.189405</td>\n",
              "      <td>0.437273</td>\n",
              "      <td>0.248309</td>\n",
              "      <td>1349</td>\n",
              "    </tr>\n",
              "    <tr>\n",
              "      <th>3</th>\n",
              "      <td>4</td>\n",
              "      <td>1.0</td>\n",
              "      <td>0.0</td>\n",
              "      <td>1.0</td>\n",
              "      <td>0.0</td>\n",
              "      <td>2.0</td>\n",
              "      <td>1.0</td>\n",
              "      <td>1</td>\n",
              "      <td>0.200000</td>\n",
              "      <td>0.212122</td>\n",
              "      <td>0.590435</td>\n",
              "      <td>0.160296</td>\n",
              "      <td>1562</td>\n",
              "    </tr>\n",
              "    <tr>\n",
              "      <th>4</th>\n",
              "      <td>5</td>\n",
              "      <td>1.0</td>\n",
              "      <td>0.0</td>\n",
              "      <td>1.0</td>\n",
              "      <td>0.0</td>\n",
              "      <td>3.0</td>\n",
              "      <td>1.0</td>\n",
              "      <td>1</td>\n",
              "      <td>0.226957</td>\n",
              "      <td>0.229270</td>\n",
              "      <td>0.436957</td>\n",
              "      <td>0.186900</td>\n",
              "      <td>1600</td>\n",
              "    </tr>\n",
              "  </tbody>\n",
              "</table>\n",
              "</div>\n",
              "      <button class=\"colab-df-convert\" onclick=\"convertToInteractive('df-83d19f3f-cac5-4431-aefc-c0082f123cf3')\"\n",
              "              title=\"Convert this dataframe to an interactive table.\"\n",
              "              style=\"display:none;\">\n",
              "        \n",
              "  <svg xmlns=\"http://www.w3.org/2000/svg\" height=\"24px\"viewBox=\"0 0 24 24\"\n",
              "       width=\"24px\">\n",
              "    <path d=\"M0 0h24v24H0V0z\" fill=\"none\"/>\n",
              "    <path d=\"M18.56 5.44l.94 2.06.94-2.06 2.06-.94-2.06-.94-.94-2.06-.94 2.06-2.06.94zm-11 1L8.5 8.5l.94-2.06 2.06-.94-2.06-.94L8.5 2.5l-.94 2.06-2.06.94zm10 10l.94 2.06.94-2.06 2.06-.94-2.06-.94-.94-2.06-.94 2.06-2.06.94z\"/><path d=\"M17.41 7.96l-1.37-1.37c-.4-.4-.92-.59-1.43-.59-.52 0-1.04.2-1.43.59L10.3 9.45l-7.72 7.72c-.78.78-.78 2.05 0 2.83L4 21.41c.39.39.9.59 1.41.59.51 0 1.02-.2 1.41-.59l7.78-7.78 2.81-2.81c.8-.78.8-2.07 0-2.86zM5.41 20L4 18.59l7.72-7.72 1.47 1.35L5.41 20z\"/>\n",
              "  </svg>\n",
              "      </button>\n",
              "      \n",
              "  <style>\n",
              "    .colab-df-container {\n",
              "      display:flex;\n",
              "      flex-wrap:wrap;\n",
              "      gap: 12px;\n",
              "    }\n",
              "\n",
              "    .colab-df-convert {\n",
              "      background-color: #E8F0FE;\n",
              "      border: none;\n",
              "      border-radius: 50%;\n",
              "      cursor: pointer;\n",
              "      display: none;\n",
              "      fill: #1967D2;\n",
              "      height: 32px;\n",
              "      padding: 0 0 0 0;\n",
              "      width: 32px;\n",
              "    }\n",
              "\n",
              "    .colab-df-convert:hover {\n",
              "      background-color: #E2EBFA;\n",
              "      box-shadow: 0px 1px 2px rgba(60, 64, 67, 0.3), 0px 1px 3px 1px rgba(60, 64, 67, 0.15);\n",
              "      fill: #174EA6;\n",
              "    }\n",
              "\n",
              "    [theme=dark] .colab-df-convert {\n",
              "      background-color: #3B4455;\n",
              "      fill: #D2E3FC;\n",
              "    }\n",
              "\n",
              "    [theme=dark] .colab-df-convert:hover {\n",
              "      background-color: #434B5C;\n",
              "      box-shadow: 0px 1px 3px 1px rgba(0, 0, 0, 0.15);\n",
              "      filter: drop-shadow(0px 1px 2px rgba(0, 0, 0, 0.3));\n",
              "      fill: #FFFFFF;\n",
              "    }\n",
              "  </style>\n",
              "\n",
              "      <script>\n",
              "        const buttonEl =\n",
              "          document.querySelector('#df-83d19f3f-cac5-4431-aefc-c0082f123cf3 button.colab-df-convert');\n",
              "        buttonEl.style.display =\n",
              "          google.colab.kernel.accessAllowed ? 'block' : 'none';\n",
              "\n",
              "        async function convertToInteractive(key) {\n",
              "          const element = document.querySelector('#df-83d19f3f-cac5-4431-aefc-c0082f123cf3');\n",
              "          const dataTable =\n",
              "            await google.colab.kernel.invokeFunction('convertToInteractive',\n",
              "                                                     [key], {});\n",
              "          if (!dataTable) return;\n",
              "\n",
              "          const docLinkHtml = 'Like what you see? Visit the ' +\n",
              "            '<a target=\"_blank\" href=https://colab.research.google.com/notebooks/data_table.ipynb>data table notebook</a>'\n",
              "            + ' to learn more about interactive tables.';\n",
              "          element.innerHTML = '';\n",
              "          dataTable['output_type'] = 'display_data';\n",
              "          await google.colab.output.renderOutput(dataTable, element);\n",
              "          const docLink = document.createElement('div');\n",
              "          docLink.innerHTML = docLinkHtml;\n",
              "          element.appendChild(docLink);\n",
              "        }\n",
              "      </script>\n",
              "    </div>\n",
              "  </div>\n",
              "  "
            ]
          },
          "metadata": {},
          "execution_count": 3
        }
      ]
    },
    {
      "cell_type": "code",
      "source": [
        "X_bikes = df_bikes.iloc[:, :-1]\n",
        "y_bikes = df_bikes.iloc[:, -1]\n",
        "\n",
        "from sklearn.model_selection import train_test_split\n",
        "\n",
        "X_train, X_test, y_train, y_test = train_test_split(X_bikes, y_bikes, random_state=2)"
      ],
      "metadata": {
        "id": "A1leWASZf5Wu"
      },
      "execution_count": 4,
      "outputs": []
    },
    {
      "cell_type": "code",
      "source": [
        "from sklearn.tree import DecisionTreeRegressor\n",
        "tree_1 = DecisionTreeRegressor(max_depth=2, random_state=2)\n",
        "tree_1.fit(X_train, y_train)"
      ],
      "metadata": {
        "colab": {
          "base_uri": "https://localhost:8080/"
        },
        "id": "1k2LMhUogIQG",
        "outputId": "86428dee-b53d-4d67-9961-00cfbf06ff56"
      },
      "execution_count": 5,
      "outputs": [
        {
          "output_type": "execute_result",
          "data": {
            "text/plain": [
              "DecisionTreeRegressor(max_depth=2, random_state=2)"
            ]
          },
          "metadata": {},
          "execution_count": 5
        }
      ]
    },
    {
      "cell_type": "code",
      "source": [
        "y_train_pred = tree_1.predict(X_train)"
      ],
      "metadata": {
        "id": "AB-iggT5gbUK"
      },
      "execution_count": 6,
      "outputs": []
    },
    {
      "cell_type": "code",
      "source": [
        "y2_train = y_train - y_train_pred"
      ],
      "metadata": {
        "id": "RYbQmP_KgnkY"
      },
      "execution_count": 7,
      "outputs": []
    },
    {
      "cell_type": "code",
      "source": [
        "tree_2 = DecisionTreeRegressor(max_depth=2, random_state=2)\n",
        "tree_2.fit(X_train, y2_train)"
      ],
      "metadata": {
        "colab": {
          "base_uri": "https://localhost:8080/"
        },
        "id": "74DNpcCfgp4Q",
        "outputId": "a0368f03-d8a3-4f9c-8684-6cc42e8adac9"
      },
      "execution_count": 8,
      "outputs": [
        {
          "output_type": "execute_result",
          "data": {
            "text/plain": [
              "DecisionTreeRegressor(max_depth=2, random_state=2)"
            ]
          },
          "metadata": {},
          "execution_count": 8
        }
      ]
    },
    {
      "cell_type": "code",
      "source": [
        "y2_train_pred = tree_2.predict(X_train)\n",
        "y3_train = y2_train - y2_train_pred\n",
        "tree_3 = DecisionTreeRegressor(max_depth=2, random_state=2)\n",
        "tree_3.fit(X_train, y3_train)"
      ],
      "metadata": {
        "colab": {
          "base_uri": "https://localhost:8080/"
        },
        "id": "oFFmGGXAhUcN",
        "outputId": "3966f570-8ca7-4dab-8028-da29d5599cd8"
      },
      "execution_count": 9,
      "outputs": [
        {
          "output_type": "execute_result",
          "data": {
            "text/plain": [
              "DecisionTreeRegressor(max_depth=2, random_state=2)"
            ]
          },
          "metadata": {},
          "execution_count": 9
        }
      ]
    },
    {
      "cell_type": "code",
      "source": [
        "y1_pred = tree_1.predict(X_test)\n",
        "y2_pred = tree_2.predict(X_test)\n",
        "y3_pred = tree_3.predict(X_test)"
      ],
      "metadata": {
        "id": "65IJSXV_hevM"
      },
      "execution_count": 10,
      "outputs": []
    },
    {
      "cell_type": "code",
      "source": [
        "y_pred = y1_pred + y2_pred + y3_pred"
      ],
      "metadata": {
        "id": "zSQ-4HIih4oy"
      },
      "execution_count": 11,
      "outputs": []
    },
    {
      "cell_type": "code",
      "source": [
        "from sklearn.metrics import mean_squared_error as MSE\n",
        "\n",
        "MSE(y_test, y_pred) ** 0.5"
      ],
      "metadata": {
        "colab": {
          "base_uri": "https://localhost:8080/"
        },
        "id": "RQRnwkY3h9FA",
        "outputId": "03a82849-51a6-46f1-e8b1-861411e34f86"
      },
      "execution_count": 12,
      "outputs": [
        {
          "output_type": "execute_result",
          "data": {
            "text/plain": [
              "911.0479538776444"
            ]
          },
          "metadata": {},
          "execution_count": 12
        }
      ]
    },
    {
      "cell_type": "code",
      "source": [
        "from sklearn.ensemble import GradientBoostingRegressor"
      ],
      "metadata": {
        "id": "-V39MhKHiEUB"
      },
      "execution_count": 13,
      "outputs": []
    },
    {
      "cell_type": "code",
      "source": [
        "gbr = GradientBoostingRegressor(max_depth=2, n_estimators=3,\n",
        "                                random_state=2, learning_rate=1.0)"
      ],
      "metadata": {
        "id": "kS7AJE4KjXyW"
      },
      "execution_count": 14,
      "outputs": []
    },
    {
      "cell_type": "code",
      "source": [
        "gbr.fit(X_train, y_train)\n",
        "y_pred = gbr.predict(X_test)\n",
        "MSE(y_test, y_pred) ** 0.5"
      ],
      "metadata": {
        "colab": {
          "base_uri": "https://localhost:8080/"
        },
        "id": "foH0wMQ8jgGo",
        "outputId": "fa7dbe5e-4108-44fd-f849-4507db5dff97"
      },
      "execution_count": 15,
      "outputs": [
        {
          "output_type": "execute_result",
          "data": {
            "text/plain": [
              "911.0479538776439"
            ]
          },
          "metadata": {},
          "execution_count": 15
        }
      ]
    },
    {
      "cell_type": "code",
      "source": [
        "gbr = GradientBoostingRegressor(max_depth=2, n_estimators=30,\n",
        "                                random_state=2, learning_rate=1.0)\n",
        "gbr.fit(X_train, y_train)\n",
        "y_pred = gbr.predict(X_test)\n",
        "MSE(y_test, y_pred) ** 0.5"
      ],
      "metadata": {
        "colab": {
          "base_uri": "https://localhost:8080/"
        },
        "id": "iqLS_T2Yjt2l",
        "outputId": "554c40d7-3397-47f6-8a7e-2d4f885cd89f"
      },
      "execution_count": 16,
      "outputs": [
        {
          "output_type": "execute_result",
          "data": {
            "text/plain": [
              "857.1072323426944"
            ]
          },
          "metadata": {},
          "execution_count": 16
        }
      ]
    },
    {
      "cell_type": "code",
      "source": [
        "gbr = GradientBoostingRegressor(max_depth=2, n_estimators=300,\n",
        "                                random_state=2, learning_rate=1.0)\n",
        "gbr.fit(X_train, y_train)\n",
        "y_pred = gbr.predict(X_test)\n",
        "MSE(y_test, y_pred) ** 0.5"
      ],
      "metadata": {
        "colab": {
          "base_uri": "https://localhost:8080/"
        },
        "id": "PTW2uoz7j0LO",
        "outputId": "635ab8a1-33d0-4a65-ef4a-1243351bd515"
      },
      "execution_count": 17,
      "outputs": [
        {
          "output_type": "execute_result",
          "data": {
            "text/plain": [
              "936.3617413678853"
            ]
          },
          "metadata": {},
          "execution_count": 17
        }
      ]
    },
    {
      "cell_type": "code",
      "source": [
        "gbr = GradientBoostingRegressor(max_depth=2, n_estimators=300,\n",
        "                                random_state=2)\n",
        "gbr.fit(X_train, y_train)\n",
        "y_pred = gbr.predict(X_test)\n",
        "MSE(y_test, y_pred) ** 0.5"
      ],
      "metadata": {
        "colab": {
          "base_uri": "https://localhost:8080/"
        },
        "id": "ogRvO_RGj2yJ",
        "outputId": "9ae1db91-f32e-4ea2-aa5f-905b317309ec"
      },
      "execution_count": 18,
      "outputs": [
        {
          "output_type": "execute_result",
          "data": {
            "text/plain": [
              "653.7456840231495"
            ]
          },
          "metadata": {},
          "execution_count": 18
        }
      ]
    },
    {
      "cell_type": "code",
      "source": [
        "learning_rate_values = [0.001, 0.01, 0.05, 0.1, 0.15, 0.2, 0.3, 0.5, 1.0]"
      ],
      "metadata": {
        "id": "Nvj_4StRj6T6"
      },
      "execution_count": 19,
      "outputs": []
    },
    {
      "cell_type": "code",
      "source": [
        "for value in learning_rate_values:\n",
        "  gbr = GradientBoostingRegressor(max_depth=2, n_estimators=300,\n",
        "                                  random_state=2, learning_rate=value)\n",
        "  gbr.fit(X_train, y_train)\n",
        "  y_pred = gbr.predict(X_test)\n",
        "  rmse = MSE(y_test, y_pred)**0.5\n",
        "  print('lr:', value, ', score:', rmse)"
      ],
      "metadata": {
        "colab": {
          "base_uri": "https://localhost:8080/"
        },
        "id": "-vGyY1JImiLd",
        "outputId": "4554b20c-8a21-4f33-ffde-98d467de0963"
      },
      "execution_count": 20,
      "outputs": [
        {
          "output_type": "stream",
          "name": "stdout",
          "text": [
            "lr: 0.001 , score: 1633.0261400367258\n",
            "lr: 0.01 , score: 831.5430182728547\n",
            "lr: 0.05 , score: 685.0192988749717\n",
            "lr: 0.1 , score: 653.7456840231495\n",
            "lr: 0.15 , score: 687.666134269379\n",
            "lr: 0.2 , score: 664.312804425697\n",
            "lr: 0.3 , score: 689.4190385930236\n",
            "lr: 0.5 , score: 693.8856905068778\n",
            "lr: 1.0 , score: 936.3617413678853\n"
          ]
        }
      ]
    },
    {
      "cell_type": "code",
      "source": [
        "depths = [None, 1, 2, 3, 4]\n",
        "for depth in depths:\n",
        "  gbr = GradientBoostingRegressor(max_depth=depth, n_estimators=300,\n",
        "                                  random_state=2)\n",
        "  gbr.fit(X_train, y_train)\n",
        "  y_pred = gbr.predict(X_test)\n",
        "  rmse = MSE(y_test, y_pred)**0.5\n",
        "  print('Max depth:', depth, ', score:', rmse)"
      ],
      "metadata": {
        "colab": {
          "base_uri": "https://localhost:8080/"
        },
        "id": "IjPg8wbam19N",
        "outputId": "ddb58fb4-0423-4473-cbe6-505ec90fa2a8"
      },
      "execution_count": 21,
      "outputs": [
        {
          "output_type": "stream",
          "name": "stdout",
          "text": [
            "Max depth: None , score: 869.2788645118395\n",
            "Max depth: 1 , score: 707.8261886858736\n",
            "Max depth: 2 , score: 653.7456840231495\n",
            "Max depth: 3 , score: 646.4045923317708\n",
            "Max depth: 4 , score: 663.048387855927\n"
          ]
        }
      ]
    },
    {
      "cell_type": "code",
      "source": [
        "gbr.init_"
      ],
      "metadata": {
        "colab": {
          "base_uri": "https://localhost:8080/"
        },
        "id": "oosuVPhoncCn",
        "outputId": "53d3ee16-92e4-4167-c2a0-abeb2b6657f1"
      },
      "execution_count": 22,
      "outputs": [
        {
          "output_type": "execute_result",
          "data": {
            "text/plain": [
              "DummyRegressor()"
            ]
          },
          "metadata": {},
          "execution_count": 22
        }
      ]
    },
    {
      "cell_type": "code",
      "source": [
        "len(gbr.estimators_)"
      ],
      "metadata": {
        "colab": {
          "base_uri": "https://localhost:8080/"
        },
        "id": "IBkq7mP4Bmxv",
        "outputId": "fddb9345-d8d9-4439-b638-2a382f1a50d1"
      },
      "execution_count": 23,
      "outputs": [
        {
          "output_type": "execute_result",
          "data": {
            "text/plain": [
              "300"
            ]
          },
          "metadata": {},
          "execution_count": 23
        }
      ]
    },
    {
      "cell_type": "code",
      "source": [
        "import matplotlib.pyplot as plt"
      ],
      "metadata": {
        "id": "4mXL2KLZB-PA"
      },
      "execution_count": 24,
      "outputs": []
    },
    {
      "cell_type": "code",
      "source": [
        "plt.figure(figsize=(15, 7))\n",
        "plt.plot(range(1, 301), gbr.train_score_)\n",
        "plt.xlabel('n_estimators')\n",
        "plt.ylabel('train_score_')\n",
        "plt.title('Train Score')\n",
        "plt.show()"
      ],
      "metadata": {
        "colab": {
          "base_uri": "https://localhost:8080/",
          "height": 459
        },
        "id": "SBMjs2bgBtdS",
        "outputId": "688228f4-c358-4c1a-afa9-cd5f6be11e04"
      },
      "execution_count": 25,
      "outputs": [
        {
          "output_type": "display_data",
          "data": {
            "text/plain": [
              "<Figure size 1080x504 with 1 Axes>"
            ],
            "image/png": "[encoded data removed]"
          },
          "metadata": {
            "needs_background": "light"
          }
        }
      ]
    },
    {
      "cell_type": "code",
      "source": [
        "samples = [1, 0.9, 0.8, 0.7, 0.6, 0.5]\n",
        "for sample in samples:\n",
        "  gbr = GradientBoostingRegressor(max_depth=3, n_estimators=300,\n",
        "                                  subsample=sample, random_state=2)\n",
        "  gbr.fit(X_train, y_train)\n",
        "  y_pred = gbr.predict(X_test)\n",
        "  rmse = MSE(y_test, y_pred)**0.5\n",
        "  print('subsample:', sample, ', score:', rmse)"
      ],
      "metadata": {
        "colab": {
          "base_uri": "https://localhost:8080/"
        },
        "id": "sUSByFE_B8mQ",
        "outputId": "74cd177e-609d-4736-956c-4ef8e3869255"
      },
      "execution_count": 26,
      "outputs": [
        {
          "output_type": "stream",
          "name": "stdout",
          "text": [
            "subsample: 1 , score: 646.4045923317708\n",
            "subsample: 0.9 , score: 620.1819001443569\n",
            "subsample: 0.8 , score: 617.2355650565677\n",
            "subsample: 0.7 , score: 612.9879156983139\n",
            "subsample: 0.6 , score: 622.6385116402317\n",
            "subsample: 0.5 , score: 626.9974073227554\n"
          ]
        }
      ]
    },
    {
      "cell_type": "code",
      "source": [
        "plt.figure(figsize=(15,7))\n",
        "plt.plot(range(1, 301), gbr.oob_improvement_)\n",
        "plt.xlabel('n_estimators')\n",
        "plt.ylabel('oob_improvement_')\n",
        "plt.title('OOB Improvement')\n",
        "plt.show()"
      ],
      "metadata": {
        "id": "li-3w9MBWrgr",
        "colab": {
          "base_uri": "https://localhost:8080/",
          "height": 459
        },
        "outputId": "8644fb1f-5165-48ba-a0be-925d5760ecc0"
      },
      "execution_count": 27,
      "outputs": [
        {
          "output_type": "display_data",
          "data": {
            "text/plain": [
              "<Figure size 1080x504 with 1 Axes>"
            ],
            "image/png": "[encoded data removed]"
          },
          "metadata": {
            "needs_background": "light"
          }
        }
      ]
    },
    {
      "cell_type": "code",
      "source": [
        "params = {\n",
        "    'subsample': [0.65, 0.7, 0.75],\n",
        "    'n_estimators': [300, 500, 1000],\n",
        "    'learning_rate': [0.05, 0.075, 0.1]\n",
        "}"
      ],
      "metadata": {
        "id": "TRaOU92nxbcv"
      },
      "execution_count": 29,
      "outputs": []
    },
    {
      "cell_type": "code",
      "source": [
        "from sklearn.model_selection import RandomizedSearchCV\n",
        "gbr = GradientBoostingRegressor(max_depth=3, random_state=2)"
      ],
      "metadata": {
        "id": "iAqUk8ALyJ6H"
      },
      "execution_count": 30,
      "outputs": []
    },
    {
      "cell_type": "code",
      "source": [
        "rand_reg = RandomizedSearchCV(gbr, params, n_iter=10,\n",
        "                              scoring='neg_mean_squared_error',\n",
        "                              cv=5, n_jobs=-1, random_state=2)"
      ],
      "metadata": {
        "id": "cr8ebAiCyUNI"
      },
      "execution_count": 33,
      "outputs": []
    },
    {
      "cell_type": "code",
      "source": [
        "rand_reg.fit(X_train, y_train)\n",
        "best_model = rand_reg.best_estimator_\n",
        "best_params = rand_reg.best_params_\n",
        "print(\"best parameter:\", best_params)\n",
        "best_score = rand_reg.best_score_\n",
        "print(\"best score:\", round(best_score, 3))\n",
        "y_pred = best_model.predict(X_test)\n",
        "rmse_test = MSE(y_test, y_pred)**0.5\n",
        "print(\"test set score:\", round(rmse_test, 3))\n"
      ],
      "metadata": {
        "colab": {
          "base_uri": "https://localhost:8080/"
        },
        "id": "j_aNwoCiyfW9",
        "outputId": "6c7abfd0-8d10-4128-8e96-64ef96051e3e"
      },
      "execution_count": 34,
      "outputs": [
        {
          "output_type": "stream",
          "name": "stdout",
          "text": [
            "best parameter: {'subsample': 0.65, 'n_estimators': 300, 'learning_rate': 0.05}\n",
            "best score: -404750.091\n",
            "test set score: 625.985\n"
          ]
        }
      ]
    },
    {
      "cell_type": "code",
      "source": [
        "gbr = GradientBoostingRegressor(max_depth=3, n_estimators=1600,\n",
        "                                subsample=0.75, learning_rate=0.02,\n",
        "                                random_state=2)\n",
        "gbr.fit(X_train, y_train)\n",
        "y_pred = gbr.predict(X_test)\n",
        "MSE(y_test, y_pred) ** 0.5"
      ],
      "metadata": {
        "colab": {
          "base_uri": "https://localhost:8080/"
        },
        "id": "sk6zSI4-zFbg",
        "outputId": "a001abbb-4aff-4743-8491-e5d048699c8d"
      },
      "execution_count": 36,
      "outputs": [
        {
          "output_type": "execute_result",
          "data": {
            "text/plain": [
              "596.9544588974487"
            ]
          },
          "metadata": {},
          "execution_count": 36
        }
      ]
    },
    {
      "cell_type": "code",
      "source": [
        "from xgboost import XGBRegressor\n",
        "xg_reg = XGBRegressor(max_depth=3, n_estimators=1600, eta=0.02,\n",
        "                      subsample=0.75, random_state=2)\n",
        "xg_reg.fit(X_train, y_train)\n",
        "y_pred = xg_reg.predict(X_test)\n",
        "MSE(y_test, y_pred)**0.5"
      ],
      "metadata": {
        "colab": {
          "base_uri": "https://localhost:8080/"
        },
        "id": "vk0wJtjo5yLZ",
        "outputId": "e88ae98d-05ad-49d5-b082-20265b8c0840"
      },
      "execution_count": 38,
      "outputs": [
        {
          "output_type": "stream",
          "name": "stdout",
          "text": [
            "[15:23:53] WARNING: /workspace/src/objective/regression_obj.cu:152: reg:linear is now deprecated in favor of reg:squarederror.\n"
          ]
        },
        {
          "output_type": "execute_result",
          "data": {
            "text/plain": [
              "584.6690439795171"
            ]
          },
          "metadata": {},
          "execution_count": 38
        }
      ]
    },
    {
      "cell_type": "code",
      "source": [
        ""
      ],
      "metadata": {
        "id": "_q5CxOgO6F4X"
      },
      "execution_count": null,
      "outputs": []
    }
  ]
}