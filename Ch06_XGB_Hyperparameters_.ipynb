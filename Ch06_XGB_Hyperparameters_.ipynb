{
  "nbformat": 4,
  "nbformat_minor": 0,
  "metadata": {
    "colab": {
      "name": "Ch06. XGB_Hyperparameters .ipynb",
      "provenance": [],
      "collapsed_sections": [],
      "authorship_tag": "ABX9TyOcjEQmqFz+nRiV0OQShyDk",
      "include_colab_link": true
    },
    "kernelspec": {
      "name": "python3",
      "display_name": "Python 3"
    },
    "language_info": {
      "name": "python"
    }
  },
  "cells": [
    {
      "cell_type": "markdown",
      "metadata": {
        "id": "view-in-github",
        "colab_type": "text"
      },
      "source": [
        "<a href=\"https://colab.research.google.com/github/talkin24/GradientBoosting/blob/main/Ch06_XGB_Hyperparameters_.ipynb\" target=\"_parent\"><img src=\"https://colab.research.google.com/assets/colab-badge.svg\" alt=\"Open In Colab\"/></a>"
      ]
    },
    {
      "cell_type": "code",
      "execution_count": 1,
      "metadata": {
        "colab": {
          "base_uri": "https://localhost:8080/"
        },
        "id": "oP590AbFDBUF",
        "outputId": "29f91a34-ab5a-45b9-e792-024e3ebf0a87"
      },
      "outputs": [
        {
          "output_type": "stream",
          "name": "stdout",
          "text": [
            "Mounted at /content/drive\n",
            "/content/drive/MyDrive/GradientBoosting\n"
          ]
        }
      ],
      "source": [
        "from google.colab import drive\n",
        "drive.mount('/content/drive', force_remount=True)\n",
        "\n",
        "%cd /content/drive/MyDrive/GradientBoosting"
      ]
    },
    {
      "cell_type": "code",
      "source": [
        " import pandas as pd\n",
        "\n",
        " df = pd.read_csv('./heart_disease2.csv')\n",
        " df.head()"
      ],
      "metadata": {
        "colab": {
          "base_uri": "https://localhost:8080/",
          "height": 206
        },
        "id": "raZyedKFDCnc",
        "outputId": "2f36bda6-d499-4bc1-9c16-4d32f03c5e27"
      },
      "execution_count": 2,
      "outputs": [
        {
          "output_type": "execute_result",
          "data": {
            "text/plain": [
              "   age  sex  cp  trestbps  chol  fbs  restecg  thalach  exang  oldpeak  slope  \\\n",
              "0   63    1   3       145   233    1        0      150      0      2.3      0   \n",
              "1   37    1   2       130   250    0        1      187      0      3.5      0   \n",
              "2   41    0   1       130   204    0        0      172      0      1.4      2   \n",
              "3   56    1   1       120   236    0        1      178      0      0.8      2   \n",
              "4   57    0   0       120   354    0        1      163      1      0.6      2   \n",
              "\n",
              "   ca  thal  target  \n",
              "0   0     1       1  \n",
              "1   0     2       1  \n",
              "2   0     2       1  \n",
              "3   0     2       1  \n",
              "4   0     2       1  "
            ],
            "text/html": [
              "\n",
              "  <div id=\"df-05a2a680-61db-44c2-ac4d-69786098cb70\">\n",
              "    <div class=\"colab-df-container\">\n",
              "      <div>\n",
              "<style scoped>\n",
              "    .dataframe tbody tr th:only-of-type {\n",
              "        vertical-align: middle;\n",
              "    }\n",
              "\n",
              "    .dataframe tbody tr th {\n",
              "        vertical-align: top;\n",
              "    }\n",
              "\n",
              "    .dataframe thead th {\n",
              "        text-align: right;\n",
              "    }\n",
              "</style>\n",
              "<table border=\"1\" class=\"dataframe\">\n",
              "  <thead>\n",
              "    <tr style=\"text-align: right;\">\n",
              "      <th></th>\n",
              "      <th>age</th>\n",
              "      <th>sex</th>\n",
              "      <th>cp</th>\n",
              "      <th>trestbps</th>\n",
              "      <th>chol</th>\n",
              "      <th>fbs</th>\n",
              "      <th>restecg</th>\n",
              "      <th>thalach</th>\n",
              "      <th>exang</th>\n",
              "      <th>oldpeak</th>\n",
              "      <th>slope</th>\n",
              "      <th>ca</th>\n",
              "      <th>thal</th>\n",
              "      <th>target</th>\n",
              "    </tr>\n",
              "  </thead>\n",
              "  <tbody>\n",
              "    <tr>\n",
              "      <th>0</th>\n",
              "      <td>63</td>\n",
              "      <td>1</td>\n",
              "      <td>3</td>\n",
              "      <td>145</td>\n",
              "      <td>233</td>\n",
              "      <td>1</td>\n",
              "      <td>0</td>\n",
              "      <td>150</td>\n",
              "      <td>0</td>\n",
              "      <td>2.3</td>\n",
              "      <td>0</td>\n",
              "      <td>0</td>\n",
              "      <td>1</td>\n",
              "      <td>1</td>\n",
              "    </tr>\n",
              "    <tr>\n",
              "      <th>1</th>\n",
              "      <td>37</td>\n",
              "      <td>1</td>\n",
              "      <td>2</td>\n",
              "      <td>130</td>\n",
              "      <td>250</td>\n",
              "      <td>0</td>\n",
              "      <td>1</td>\n",
              "      <td>187</td>\n",
              "      <td>0</td>\n",
              "      <td>3.5</td>\n",
              "      <td>0</td>\n",
              "      <td>0</td>\n",
              "      <td>2</td>\n",
              "      <td>1</td>\n",
              "    </tr>\n",
              "    <tr>\n",
              "      <th>2</th>\n",
              "      <td>41</td>\n",
              "      <td>0</td>\n",
              "      <td>1</td>\n",
              "      <td>130</td>\n",
              "      <td>204</td>\n",
              "      <td>0</td>\n",
              "      <td>0</td>\n",
              "      <td>172</td>\n",
              "      <td>0</td>\n",
              "      <td>1.4</td>\n",
              "      <td>2</td>\n",
              "      <td>0</td>\n",
              "      <td>2</td>\n",
              "      <td>1</td>\n",
              "    </tr>\n",
              "    <tr>\n",
              "      <th>3</th>\n",
              "      <td>56</td>\n",
              "      <td>1</td>\n",
              "      <td>1</td>\n",
              "      <td>120</td>\n",
              "      <td>236</td>\n",
              "      <td>0</td>\n",
              "      <td>1</td>\n",
              "      <td>178</td>\n",
              "      <td>0</td>\n",
              "      <td>0.8</td>\n",
              "      <td>2</td>\n",
              "      <td>0</td>\n",
              "      <td>2</td>\n",
              "      <td>1</td>\n",
              "    </tr>\n",
              "    <tr>\n",
              "      <th>4</th>\n",
              "      <td>57</td>\n",
              "      <td>0</td>\n",
              "      <td>0</td>\n",
              "      <td>120</td>\n",
              "      <td>354</td>\n",
              "      <td>0</td>\n",
              "      <td>1</td>\n",
              "      <td>163</td>\n",
              "      <td>1</td>\n",
              "      <td>0.6</td>\n",
              "      <td>2</td>\n",
              "      <td>0</td>\n",
              "      <td>2</td>\n",
              "      <td>1</td>\n",
              "    </tr>\n",
              "  </tbody>\n",
              "</table>\n",
              "</div>\n",
              "      <button class=\"colab-df-convert\" onclick=\"convertToInteractive('df-05a2a680-61db-44c2-ac4d-69786098cb70')\"\n",
              "              title=\"Convert this dataframe to an interactive table.\"\n",
              "              style=\"display:none;\">\n",
              "        \n",
              "  <svg xmlns=\"http://www.w3.org/2000/svg\" height=\"24px\"viewBox=\"0 0 24 24\"\n",
              "       width=\"24px\">\n",
              "    <path d=\"M0 0h24v24H0V0z\" fill=\"none\"/>\n",
              "    <path d=\"M18.56 5.44l.94 2.06.94-2.06 2.06-.94-2.06-.94-.94-2.06-.94 2.06-2.06.94zm-11 1L8.5 8.5l.94-2.06 2.06-.94-2.06-.94L8.5 2.5l-.94 2.06-2.06.94zm10 10l.94 2.06.94-2.06 2.06-.94-2.06-.94-.94-2.06-.94 2.06-2.06.94z\"/><path d=\"M17.41 7.96l-1.37-1.37c-.4-.4-.92-.59-1.43-.59-.52 0-1.04.2-1.43.59L10.3 9.45l-7.72 7.72c-.78.78-.78 2.05 0 2.83L4 21.41c.39.39.9.59 1.41.59.51 0 1.02-.2 1.41-.59l7.78-7.78 2.81-2.81c.8-.78.8-2.07 0-2.86zM5.41 20L4 18.59l7.72-7.72 1.47 1.35L5.41 20z\"/>\n",
              "  </svg>\n",
              "      </button>\n",
              "      \n",
              "  <style>\n",
              "    .colab-df-container {\n",
              "      display:flex;\n",
              "      flex-wrap:wrap;\n",
              "      gap: 12px;\n",
              "    }\n",
              "\n",
              "    .colab-df-convert {\n",
              "      background-color: #E8F0FE;\n",
              "      border: none;\n",
              "      border-radius: 50%;\n",
              "      cursor: pointer;\n",
              "      display: none;\n",
              "      fill: #1967D2;\n",
              "      height: 32px;\n",
              "      padding: 0 0 0 0;\n",
              "      width: 32px;\n",
              "    }\n",
              "\n",
              "    .colab-df-convert:hover {\n",
              "      background-color: #E2EBFA;\n",
              "      box-shadow: 0px 1px 2px rgba(60, 64, 67, 0.3), 0px 1px 3px 1px rgba(60, 64, 67, 0.15);\n",
              "      fill: #174EA6;\n",
              "    }\n",
              "\n",
              "    [theme=dark] .colab-df-convert {\n",
              "      background-color: #3B4455;\n",
              "      fill: #D2E3FC;\n",
              "    }\n",
              "\n",
              "    [theme=dark] .colab-df-convert:hover {\n",
              "      background-color: #434B5C;\n",
              "      box-shadow: 0px 1px 3px 1px rgba(0, 0, 0, 0.15);\n",
              "      filter: drop-shadow(0px 1px 2px rgba(0, 0, 0, 0.3));\n",
              "      fill: #FFFFFF;\n",
              "    }\n",
              "  </style>\n",
              "\n",
              "      <script>\n",
              "        const buttonEl =\n",
              "          document.querySelector('#df-05a2a680-61db-44c2-ac4d-69786098cb70 button.colab-df-convert');\n",
              "        buttonEl.style.display =\n",
              "          google.colab.kernel.accessAllowed ? 'block' : 'none';\n",
              "\n",
              "        async function convertToInteractive(key) {\n",
              "          const element = document.querySelector('#df-05a2a680-61db-44c2-ac4d-69786098cb70');\n",
              "          const dataTable =\n",
              "            await google.colab.kernel.invokeFunction('convertToInteractive',\n",
              "                                                     [key], {});\n",
              "          if (!dataTable) return;\n",
              "\n",
              "          const docLinkHtml = 'Like what you see? Visit the ' +\n",
              "            '<a target=\"_blank\" href=https://colab.research.google.com/notebooks/data_table.ipynb>data table notebook</a>'\n",
              "            + ' to learn more about interactive tables.';\n",
              "          element.innerHTML = '';\n",
              "          dataTable['output_type'] = 'display_data';\n",
              "          await google.colab.output.renderOutput(dataTable, element);\n",
              "          const docLink = document.createElement('div');\n",
              "          docLink.innerHTML = docLinkHtml;\n",
              "          element.appendChild(docLink);\n",
              "        }\n",
              "      </script>\n",
              "    </div>\n",
              "  </div>\n",
              "  "
            ]
          },
          "metadata": {},
          "execution_count": 2
        }
      ]
    },
    {
      "cell_type": "code",
      "source": [
        "df.info()"
      ],
      "metadata": {
        "colab": {
          "base_uri": "https://localhost:8080/"
        },
        "id": "0gxmiiQfDRZD",
        "outputId": "28bfdae3-d589-43aa-8bd1-37eb5051accb"
      },
      "execution_count": 3,
      "outputs": [
        {
          "output_type": "stream",
          "name": "stdout",
          "text": [
            "<class 'pandas.core.frame.DataFrame'>\n",
            "RangeIndex: 303 entries, 0 to 302\n",
            "Data columns (total 14 columns):\n",
            " #   Column    Non-Null Count  Dtype  \n",
            "---  ------    --------------  -----  \n",
            " 0   age       303 non-null    int64  \n",
            " 1   sex       303 non-null    int64  \n",
            " 2   cp        303 non-null    int64  \n",
            " 3   trestbps  303 non-null    int64  \n",
            " 4   chol      303 non-null    int64  \n",
            " 5   fbs       303 non-null    int64  \n",
            " 6   restecg   303 non-null    int64  \n",
            " 7   thalach   303 non-null    int64  \n",
            " 8   exang     303 non-null    int64  \n",
            " 9   oldpeak   303 non-null    float64\n",
            " 10  slope     303 non-null    int64  \n",
            " 11  ca        303 non-null    int64  \n",
            " 12  thal      303 non-null    int64  \n",
            " 13  target    303 non-null    int64  \n",
            "dtypes: float64(1), int64(13)\n",
            "memory usage: 33.3 KB\n"
          ]
        }
      ]
    },
    {
      "cell_type": "code",
      "source": [
        "from xgboost import XGBClassifier\n",
        "from sklearn.metrics import accuracy_score"
      ],
      "metadata": {
        "id": "CMda3fBIDVf-"
      },
      "execution_count": 4,
      "outputs": []
    },
    {
      "cell_type": "code",
      "source": [
        "X = df.iloc[:, :-1]\n",
        "y = df.iloc[:, -1]"
      ],
      "metadata": {
        "id": "7Mg_BpyHDfGg"
      },
      "execution_count": 5,
      "outputs": []
    },
    {
      "cell_type": "code",
      "source": [
        "model = XGBClassifier(booster='gbtree', objective='binary:logistic')"
      ],
      "metadata": {
        "id": "LtOyr9YtDjz_"
      },
      "execution_count": 6,
      "outputs": []
    },
    {
      "cell_type": "code",
      "source": [
        "from sklearn.model_selection import cross_val_score\n",
        "import numpy as np\n",
        "\n",
        "scores = cross_val_score(model, X, y, cv=5)\n",
        "print('accuracy:', scores)\n",
        "print('accuracy mean:', scores.mean())"
      ],
      "metadata": {
        "colab": {
          "base_uri": "https://localhost:8080/"
        },
        "id": "qUs2Gt3YDprU",
        "outputId": "2dea10d0-3807-476a-a049-eafc955a7b8f"
      },
      "execution_count": 7,
      "outputs": [
        {
          "output_type": "stream",
          "name": "stdout",
          "text": [
            "accuracy: [0.85245902 0.85245902 0.7704918  0.78333333 0.76666667]\n",
            "accuracy mean: 0.8050819672131148\n"
          ]
        }
      ]
    },
    {
      "cell_type": "code",
      "source": [
        "from sklearn.model_selection import StratifiedKFold"
      ],
      "metadata": {
        "id": "mV3kCazLD6Nd"
      },
      "execution_count": 8,
      "outputs": []
    },
    {
      "cell_type": "code",
      "source": [
        "kfold = StratifiedKFold(n_splits=5, shuffle=True, random_state=2)"
      ],
      "metadata": {
        "id": "LS2rU3-cEP5U"
      },
      "execution_count": 9,
      "outputs": []
    },
    {
      "cell_type": "code",
      "source": [
        "print('전체 데이터 클래스 분포:', np.bincount(y))\n",
        "print()\n",
        "for split_no, (train_idx, test_idx) in enumerate(kfold.split(X, y)):\n",
        "  print('{}번째 훈련 폴드:'.format(split_no+1), np.bincount(y[train_idx]))\n",
        "  print('{}번째 검증 폴드:'.format(split_no+1), np.bincount(y[test_idx]))\n",
        "  print()"
      ],
      "metadata": {
        "colab": {
          "base_uri": "https://localhost:8080/"
        },
        "id": "0L92_LKDEUgB",
        "outputId": "a97ba73b-2f4c-476a-d1c9-75f9ad7f9c95"
      },
      "execution_count": 10,
      "outputs": [
        {
          "output_type": "stream",
          "name": "stdout",
          "text": [
            "전체 데이터 클래스 분포: [138 165]\n",
            "\n",
            "1번째 훈련 폴드: [110 132]\n",
            "1번째 검증 폴드: [28 33]\n",
            "\n",
            "2번째 훈련 폴드: [110 132]\n",
            "2번째 검증 폴드: [28 33]\n",
            "\n",
            "3번째 훈련 폴드: [110 132]\n",
            "3번째 검증 폴드: [28 33]\n",
            "\n",
            "4번째 훈련 폴드: [111 132]\n",
            "4번째 검증 폴드: [27 33]\n",
            "\n",
            "5번째 훈련 폴드: [111 132]\n",
            "5번째 검증 폴드: [27 33]\n",
            "\n"
          ]
        }
      ]
    },
    {
      "cell_type": "code",
      "source": [
        "kfold"
      ],
      "metadata": {
        "colab": {
          "base_uri": "https://localhost:8080/"
        },
        "id": "vL1mgok9FnZO",
        "outputId": "b26d7c37-5724-4427-d051-1829ed8372b5"
      },
      "execution_count": 11,
      "outputs": [
        {
          "output_type": "execute_result",
          "data": {
            "text/plain": [
              "StratifiedKFold(n_splits=5, random_state=2, shuffle=True)"
            ]
          },
          "metadata": {},
          "execution_count": 11
        }
      ]
    },
    {
      "cell_type": "code",
      "source": [
        "scores = cross_val_score(model, X, y, cv=kfold)\n",
        "print('accuracy:', np.round(scores, 2))\n",
        "print('accuracy mean:', np.round(scores.mean(), 2))"
      ],
      "metadata": {
        "colab": {
          "base_uri": "https://localhost:8080/"
        },
        "id": "KVGgPJxyFgIO",
        "outputId": "527027f6-ffbb-403e-acf1-c84946330eb7"
      },
      "execution_count": 12,
      "outputs": [
        {
          "output_type": "stream",
          "name": "stdout",
          "text": [
            "accuracy: [0.75 0.75 0.75 0.82 0.87]\n",
            "accuracy mean: 0.79\n"
          ]
        }
      ]
    },
    {
      "cell_type": "code",
      "source": [
        "from sklearn.model_selection import GridSearchCV, RandomizedSearchCV\n",
        "kfold = StratifiedKFold(n_splits=5, shuffle=True, random_state=2)"
      ],
      "metadata": {
        "id": "nq2I05YlFvPw"
      },
      "execution_count": 13,
      "outputs": []
    },
    {
      "cell_type": "code",
      "source": [
        "def grid_search(params, random=False):\n",
        "  xgb = XGBClassifier(booster='gbtree', objective='binary:logistic',\n",
        "                      random_state=2, verbosity=0, use_label_encoder=False)\n",
        "  kfold = StratifiedKFold(n_splits=5, shuffle=True, random_state=2)\n",
        "\n",
        "  if random:\n",
        "    grid = RandomizedSearchCV(xgb, params, cv=kfold, n_iter=20,\n",
        "                              n_jobs=-1, random_state=2)\n",
        "  else:\n",
        "    grid = GridSearchCV(xgb, params, cv=kfold, n_jobs=-1)\n",
        "  \n",
        "  grid.fit(X, y)\n",
        "  best_params = grid.best_params_\n",
        "  print('best parameters:', best_params)\n",
        "  best_score = grid.best_score_\n",
        "  print('best score:', best_score)"
      ],
      "metadata": {
        "id": "mt0ySmMqH0YY"
      },
      "execution_count": 41,
      "outputs": []
    },
    {
      "cell_type": "code",
      "source": [
        "grid_search(params={'n_estimators':[100, 200, 400, 800]})"
      ],
      "metadata": {
        "colab": {
          "base_uri": "https://localhost:8080/"
        },
        "id": "rYdGclPTImk2",
        "outputId": "b7308570-d98c-40e4-bbec-ebcb5decaaab"
      },
      "execution_count": 15,
      "outputs": [
        {
          "output_type": "stream",
          "name": "stdout",
          "text": [
            "best parameters: {'n_estimators': 100}\n",
            "best score: 0.7891256830601093\n"
          ]
        }
      ]
    },
    {
      "cell_type": "code",
      "source": [
        "grid_search(params={'learning_rate':[0.01, 0.05, 0.1, 0.2, 0.3, 0.4, 0.5]})"
      ],
      "metadata": {
        "colab": {
          "base_uri": "https://localhost:8080/"
        },
        "id": "PfgYL-FKInoj",
        "outputId": "2b48ed20-b3ac-4f28-a2bc-f5a54a371e7d"
      },
      "execution_count": 16,
      "outputs": [
        {
          "output_type": "stream",
          "name": "stdout",
          "text": [
            "best parameters: {'learning_rate': 0.05}\n",
            "best score: 0.8056284153005464\n"
          ]
        }
      ]
    },
    {
      "cell_type": "code",
      "source": [
        "grid_search(params={'max_depth':[2, 3, 5, 6, 8]})"
      ],
      "metadata": {
        "colab": {
          "base_uri": "https://localhost:8080/"
        },
        "id": "S0hJs0P9OeB3",
        "outputId": "4493cdf1-b19b-4b61-9ba1-8895e8891804"
      },
      "execution_count": 17,
      "outputs": [
        {
          "output_type": "stream",
          "name": "stdout",
          "text": [
            "best parameters: {'max_depth': 2}\n",
            "best score: 0.8056830601092896\n"
          ]
        }
      ]
    },
    {
      "cell_type": "code",
      "source": [
        "grid_search(params={'gamma':[0, 0.01, 0.1, 0.5, 1, 2]})"
      ],
      "metadata": {
        "colab": {
          "base_uri": "https://localhost:8080/"
        },
        "id": "k8coje1yOk-Y",
        "outputId": "37051a1b-316b-4ad9-cb31-f4a8fb0c831b"
      },
      "execution_count": 18,
      "outputs": [
        {
          "output_type": "stream",
          "name": "stdout",
          "text": [
            "best parameters: {'gamma': 1}\n",
            "best score: 0.8022404371584699\n"
          ]
        }
      ]
    },
    {
      "cell_type": "code",
      "source": [
        "grid_search(params={'min_child_weight':[1, 2, 3, 4, 5]})"
      ],
      "metadata": {
        "colab": {
          "base_uri": "https://localhost:8080/"
        },
        "id": "g7XozVDQOs0D",
        "outputId": "6342d96a-6e55-4235-b901-daa673eb6145"
      },
      "execution_count": 19,
      "outputs": [
        {
          "output_type": "stream",
          "name": "stdout",
          "text": [
            "best parameters: {'min_child_weight': 2}\n",
            "best score: 0.8087978142076502\n"
          ]
        }
      ]
    },
    {
      "cell_type": "code",
      "source": [
        "grid_search(params={'subsample':[0.5, 0.7, 0.8, 0.9, 1]})"
      ],
      "metadata": {
        "colab": {
          "base_uri": "https://localhost:8080/"
        },
        "id": "66RpJ-w0PJ6H",
        "outputId": "dbb95635-93a1-4a13-d9fc-ef5791959a1c"
      },
      "execution_count": 20,
      "outputs": [
        {
          "output_type": "stream",
          "name": "stdout",
          "text": [
            "best parameters: {'subsample': 0.7}\n",
            "best score: 0.8056830601092896\n"
          ]
        }
      ]
    },
    {
      "cell_type": "code",
      "source": [
        "grid_search(params={'colsample_bytree':[0.5, 0.7, 0.8, 0.9, 1]})"
      ],
      "metadata": {
        "colab": {
          "base_uri": "https://localhost:8080/"
        },
        "id": "UpM6XMhNPW7q",
        "outputId": "331defaa-7fed-43e0-b252-97559cc1446b"
      },
      "execution_count": 21,
      "outputs": [
        {
          "output_type": "stream",
          "name": "stdout",
          "text": [
            "best parameters: {'colsample_bytree': 0.5}\n",
            "best score: 0.7989071038251366\n"
          ]
        }
      ]
    },
    {
      "cell_type": "code",
      "source": [
        "from sklearn.model_selection import train_test_split\n",
        "\n",
        "X_train, X_test, y_train, y_test = train_test_split(X, y, random_state=2)"
      ],
      "metadata": {
        "id": "wTvbt1mzPeuy"
      },
      "execution_count": 22,
      "outputs": []
    },
    {
      "cell_type": "code",
      "source": [
        "model = XGBClassifier(booster='gbtree', objective='binary:logistic')"
      ],
      "metadata": {
        "id": "cPAMaXL5ScJi"
      },
      "execution_count": 23,
      "outputs": []
    },
    {
      "cell_type": "code",
      "source": [
        "eval_set = [(X_test, y_test)]"
      ],
      "metadata": {
        "id": "9qKqVcjLSimK"
      },
      "execution_count": 24,
      "outputs": []
    },
    {
      "cell_type": "code",
      "source": [
        "eval_metric='error'"
      ],
      "metadata": {
        "id": "HoLDIPXDSmq0"
      },
      "execution_count": 25,
      "outputs": []
    },
    {
      "cell_type": "code",
      "source": [
        "model.fit(X_train, y_train, eval_metric=eval_metric, eval_set=eval_set)"
      ],
      "metadata": {
        "colab": {
          "base_uri": "https://localhost:8080/"
        },
        "id": "FU82uPEYSoLB",
        "outputId": "39fa139b-e23b-45da-94a8-d8cf96642fd0"
      },
      "execution_count": 26,
      "outputs": [
        {
          "output_type": "stream",
          "name": "stdout",
          "text": [
            "[0]\tvalidation_0-error:0.171053\n",
            "[1]\tvalidation_0-error:0.118421\n",
            "[2]\tvalidation_0-error:0.157895\n",
            "[3]\tvalidation_0-error:0.184211\n",
            "[4]\tvalidation_0-error:0.157895\n",
            "[5]\tvalidation_0-error:0.171053\n",
            "[6]\tvalidation_0-error:0.157895\n",
            "[7]\tvalidation_0-error:0.144737\n",
            "[8]\tvalidation_0-error:0.144737\n",
            "[9]\tvalidation_0-error:0.144737\n",
            "[10]\tvalidation_0-error:0.131579\n",
            "[11]\tvalidation_0-error:0.144737\n",
            "[12]\tvalidation_0-error:0.144737\n",
            "[13]\tvalidation_0-error:0.144737\n",
            "[14]\tvalidation_0-error:0.144737\n",
            "[15]\tvalidation_0-error:0.144737\n",
            "[16]\tvalidation_0-error:0.157895\n",
            "[17]\tvalidation_0-error:0.131579\n",
            "[18]\tvalidation_0-error:0.144737\n",
            "[19]\tvalidation_0-error:0.144737\n",
            "[20]\tvalidation_0-error:0.144737\n",
            "[21]\tvalidation_0-error:0.144737\n",
            "[22]\tvalidation_0-error:0.144737\n",
            "[23]\tvalidation_0-error:0.144737\n",
            "[24]\tvalidation_0-error:0.144737\n",
            "[25]\tvalidation_0-error:0.144737\n",
            "[26]\tvalidation_0-error:0.131579\n",
            "[27]\tvalidation_0-error:0.131579\n",
            "[28]\tvalidation_0-error:0.131579\n",
            "[29]\tvalidation_0-error:0.131579\n",
            "[30]\tvalidation_0-error:0.118421\n",
            "[31]\tvalidation_0-error:0.118421\n",
            "[32]\tvalidation_0-error:0.118421\n",
            "[33]\tvalidation_0-error:0.118421\n",
            "[34]\tvalidation_0-error:0.118421\n",
            "[35]\tvalidation_0-error:0.118421\n",
            "[36]\tvalidation_0-error:0.118421\n",
            "[37]\tvalidation_0-error:0.131579\n",
            "[38]\tvalidation_0-error:0.131579\n",
            "[39]\tvalidation_0-error:0.131579\n",
            "[40]\tvalidation_0-error:0.131579\n",
            "[41]\tvalidation_0-error:0.131579\n",
            "[42]\tvalidation_0-error:0.131579\n",
            "[43]\tvalidation_0-error:0.131579\n",
            "[44]\tvalidation_0-error:0.131579\n",
            "[45]\tvalidation_0-error:0.131579\n",
            "[46]\tvalidation_0-error:0.131579\n",
            "[47]\tvalidation_0-error:0.131579\n",
            "[48]\tvalidation_0-error:0.131579\n",
            "[49]\tvalidation_0-error:0.131579\n",
            "[50]\tvalidation_0-error:0.131579\n",
            "[51]\tvalidation_0-error:0.118421\n",
            "[52]\tvalidation_0-error:0.131579\n",
            "[53]\tvalidation_0-error:0.131579\n",
            "[54]\tvalidation_0-error:0.131579\n",
            "[55]\tvalidation_0-error:0.131579\n",
            "[56]\tvalidation_0-error:0.131579\n",
            "[57]\tvalidation_0-error:0.131579\n",
            "[58]\tvalidation_0-error:0.131579\n",
            "[59]\tvalidation_0-error:0.118421\n",
            "[60]\tvalidation_0-error:0.131579\n",
            "[61]\tvalidation_0-error:0.118421\n",
            "[62]\tvalidation_0-error:0.118421\n",
            "[63]\tvalidation_0-error:0.131579\n",
            "[64]\tvalidation_0-error:0.131579\n",
            "[65]\tvalidation_0-error:0.131579\n",
            "[66]\tvalidation_0-error:0.131579\n",
            "[67]\tvalidation_0-error:0.131579\n",
            "[68]\tvalidation_0-error:0.131579\n",
            "[69]\tvalidation_0-error:0.131579\n",
            "[70]\tvalidation_0-error:0.131579\n",
            "[71]\tvalidation_0-error:0.131579\n",
            "[72]\tvalidation_0-error:0.131579\n",
            "[73]\tvalidation_0-error:0.131579\n",
            "[74]\tvalidation_0-error:0.131579\n",
            "[75]\tvalidation_0-error:0.131579\n",
            "[76]\tvalidation_0-error:0.131579\n",
            "[77]\tvalidation_0-error:0.131579\n",
            "[78]\tvalidation_0-error:0.131579\n",
            "[79]\tvalidation_0-error:0.131579\n",
            "[80]\tvalidation_0-error:0.131579\n",
            "[81]\tvalidation_0-error:0.131579\n",
            "[82]\tvalidation_0-error:0.131579\n",
            "[83]\tvalidation_0-error:0.131579\n",
            "[84]\tvalidation_0-error:0.131579\n",
            "[85]\tvalidation_0-error:0.131579\n",
            "[86]\tvalidation_0-error:0.131579\n",
            "[87]\tvalidation_0-error:0.131579\n",
            "[88]\tvalidation_0-error:0.131579\n",
            "[89]\tvalidation_0-error:0.131579\n",
            "[90]\tvalidation_0-error:0.131579\n",
            "[91]\tvalidation_0-error:0.131579\n",
            "[92]\tvalidation_0-error:0.131579\n",
            "[93]\tvalidation_0-error:0.131579\n",
            "[94]\tvalidation_0-error:0.131579\n",
            "[95]\tvalidation_0-error:0.131579\n",
            "[96]\tvalidation_0-error:0.131579\n",
            "[97]\tvalidation_0-error:0.144737\n",
            "[98]\tvalidation_0-error:0.144737\n",
            "[99]\tvalidation_0-error:0.144737\n"
          ]
        },
        {
          "output_type": "execute_result",
          "data": {
            "text/plain": [
              "XGBClassifier()"
            ]
          },
          "metadata": {},
          "execution_count": 26
        }
      ]
    },
    {
      "cell_type": "code",
      "source": [
        "y_pred = model.predict(X_test)\n",
        "accuracy = accuracy_score(y_test, y_pred)\n",
        "print(\"accuracy:\", accuracy)"
      ],
      "metadata": {
        "colab": {
          "base_uri": "https://localhost:8080/"
        },
        "id": "WRIMPQZVS5bY",
        "outputId": "5182e40a-ce4b-4c4c-a31c-9a7de7d5ddb6"
      },
      "execution_count": 27,
      "outputs": [
        {
          "output_type": "stream",
          "name": "stdout",
          "text": [
            "accuracy: 0.8552631578947368\n"
          ]
        }
      ]
    },
    {
      "cell_type": "code",
      "source": [
        "model = XGBClassifier(booster='gbtree', objective='binary:logistic')\n",
        "eval_set = [(X_test, y_test)]\n",
        "eval_metric='error'\n",
        "model.fit(X_train, y_train, eval_metric=eval_metric, eval_set=eval_set,\n",
        "          early_stopping_rounds=10, verbose=True)\n",
        "y_pred = model.predict(X_test)\n",
        "accuracy = accuracy_score(y_test, y_pred)\n",
        "print(\"accuracy:\", accuracy)"
      ],
      "metadata": {
        "colab": {
          "base_uri": "https://localhost:8080/"
        },
        "id": "L22Hj8cyTI-Q",
        "outputId": "52a15638-6f4c-4f61-cb86-469706b6e449"
      },
      "execution_count": 28,
      "outputs": [
        {
          "output_type": "stream",
          "name": "stdout",
          "text": [
            "[0]\tvalidation_0-error:0.171053\n",
            "Will train until validation_0-error hasn't improved in 10 rounds.\n",
            "[1]\tvalidation_0-error:0.118421\n",
            "[2]\tvalidation_0-error:0.157895\n",
            "[3]\tvalidation_0-error:0.184211\n",
            "[4]\tvalidation_0-error:0.157895\n",
            "[5]\tvalidation_0-error:0.171053\n",
            "[6]\tvalidation_0-error:0.157895\n",
            "[7]\tvalidation_0-error:0.144737\n",
            "[8]\tvalidation_0-error:0.144737\n",
            "[9]\tvalidation_0-error:0.144737\n",
            "[10]\tvalidation_0-error:0.131579\n",
            "[11]\tvalidation_0-error:0.144737\n",
            "Stopping. Best iteration:\n",
            "[1]\tvalidation_0-error:0.118421\n",
            "\n",
            "accuracy: 0.881578947368421\n"
          ]
        }
      ]
    },
    {
      "cell_type": "code",
      "source": [
        "model = XGBClassifier(n_estimators=5000)\n",
        "eval_set = [(X_test, y_test)]\n",
        "eval_metric='error'\n",
        "model.fit(X_train, y_train, eval_metric=eval_metric, eval_set=eval_set,\n",
        "          early_stopping_rounds=100, verbose=True)\n",
        "y_pred = model.predict(X_test)\n",
        "accuracy = accuracy_score(y_test, y_pred)\n",
        "print(\"accuracy:\", accuracy)"
      ],
      "metadata": {
        "colab": {
          "base_uri": "https://localhost:8080/"
        },
        "id": "FH-64mWMThq8",
        "outputId": "46dfde36-9f0b-4a66-84d0-7cc10ee19715"
      },
      "execution_count": 29,
      "outputs": [
        {
          "output_type": "stream",
          "name": "stdout",
          "text": [
            "[0]\tvalidation_0-error:0.171053\n",
            "Will train until validation_0-error hasn't improved in 100 rounds.\n",
            "[1]\tvalidation_0-error:0.118421\n",
            "[2]\tvalidation_0-error:0.157895\n",
            "[3]\tvalidation_0-error:0.184211\n",
            "[4]\tvalidation_0-error:0.157895\n",
            "[5]\tvalidation_0-error:0.171053\n",
            "[6]\tvalidation_0-error:0.157895\n",
            "[7]\tvalidation_0-error:0.144737\n",
            "[8]\tvalidation_0-error:0.144737\n",
            "[9]\tvalidation_0-error:0.144737\n",
            "[10]\tvalidation_0-error:0.131579\n",
            "[11]\tvalidation_0-error:0.144737\n",
            "[12]\tvalidation_0-error:0.144737\n",
            "[13]\tvalidation_0-error:0.144737\n",
            "[14]\tvalidation_0-error:0.144737\n",
            "[15]\tvalidation_0-error:0.144737\n",
            "[16]\tvalidation_0-error:0.157895\n",
            "[17]\tvalidation_0-error:0.131579\n",
            "[18]\tvalidation_0-error:0.144737\n",
            "[19]\tvalidation_0-error:0.144737\n",
            "[20]\tvalidation_0-error:0.144737\n",
            "[21]\tvalidation_0-error:0.144737\n",
            "[22]\tvalidation_0-error:0.144737\n",
            "[23]\tvalidation_0-error:0.144737\n",
            "[24]\tvalidation_0-error:0.144737\n",
            "[25]\tvalidation_0-error:0.144737\n",
            "[26]\tvalidation_0-error:0.131579\n",
            "[27]\tvalidation_0-error:0.131579\n",
            "[28]\tvalidation_0-error:0.131579\n",
            "[29]\tvalidation_0-error:0.131579\n",
            "[30]\tvalidation_0-error:0.118421\n",
            "[31]\tvalidation_0-error:0.118421\n",
            "[32]\tvalidation_0-error:0.118421\n",
            "[33]\tvalidation_0-error:0.118421\n",
            "[34]\tvalidation_0-error:0.118421\n",
            "[35]\tvalidation_0-error:0.118421\n",
            "[36]\tvalidation_0-error:0.118421\n",
            "[37]\tvalidation_0-error:0.131579\n",
            "[38]\tvalidation_0-error:0.131579\n",
            "[39]\tvalidation_0-error:0.131579\n",
            "[40]\tvalidation_0-error:0.131579\n",
            "[41]\tvalidation_0-error:0.131579\n",
            "[42]\tvalidation_0-error:0.131579\n",
            "[43]\tvalidation_0-error:0.131579\n",
            "[44]\tvalidation_0-error:0.131579\n",
            "[45]\tvalidation_0-error:0.131579\n",
            "[46]\tvalidation_0-error:0.131579\n",
            "[47]\tvalidation_0-error:0.131579\n",
            "[48]\tvalidation_0-error:0.131579\n",
            "[49]\tvalidation_0-error:0.131579\n",
            "[50]\tvalidation_0-error:0.131579\n",
            "[51]\tvalidation_0-error:0.118421\n",
            "[52]\tvalidation_0-error:0.131579\n",
            "[53]\tvalidation_0-error:0.131579\n",
            "[54]\tvalidation_0-error:0.131579\n",
            "[55]\tvalidation_0-error:0.131579\n",
            "[56]\tvalidation_0-error:0.131579\n",
            "[57]\tvalidation_0-error:0.131579\n",
            "[58]\tvalidation_0-error:0.131579\n",
            "[59]\tvalidation_0-error:0.118421\n",
            "[60]\tvalidation_0-error:0.131579\n",
            "[61]\tvalidation_0-error:0.118421\n",
            "[62]\tvalidation_0-error:0.118421\n",
            "[63]\tvalidation_0-error:0.131579\n",
            "[64]\tvalidation_0-error:0.131579\n",
            "[65]\tvalidation_0-error:0.131579\n",
            "[66]\tvalidation_0-error:0.131579\n",
            "[67]\tvalidation_0-error:0.131579\n",
            "[68]\tvalidation_0-error:0.131579\n",
            "[69]\tvalidation_0-error:0.131579\n",
            "[70]\tvalidation_0-error:0.131579\n",
            "[71]\tvalidation_0-error:0.131579\n",
            "[72]\tvalidation_0-error:0.131579\n",
            "[73]\tvalidation_0-error:0.131579\n",
            "[74]\tvalidation_0-error:0.131579\n",
            "[75]\tvalidation_0-error:0.131579\n",
            "[76]\tvalidation_0-error:0.131579\n",
            "[77]\tvalidation_0-error:0.131579\n",
            "[78]\tvalidation_0-error:0.131579\n",
            "[79]\tvalidation_0-error:0.131579\n",
            "[80]\tvalidation_0-error:0.131579\n",
            "[81]\tvalidation_0-error:0.131579\n",
            "[82]\tvalidation_0-error:0.131579\n",
            "[83]\tvalidation_0-error:0.131579\n",
            "[84]\tvalidation_0-error:0.131579\n",
            "[85]\tvalidation_0-error:0.131579\n",
            "[86]\tvalidation_0-error:0.131579\n",
            "[87]\tvalidation_0-error:0.131579\n",
            "[88]\tvalidation_0-error:0.131579\n",
            "[89]\tvalidation_0-error:0.131579\n",
            "[90]\tvalidation_0-error:0.131579\n",
            "[91]\tvalidation_0-error:0.131579\n",
            "[92]\tvalidation_0-error:0.131579\n",
            "[93]\tvalidation_0-error:0.131579\n",
            "[94]\tvalidation_0-error:0.131579\n",
            "[95]\tvalidation_0-error:0.131579\n",
            "[96]\tvalidation_0-error:0.131579\n",
            "[97]\tvalidation_0-error:0.144737\n",
            "[98]\tvalidation_0-error:0.144737\n",
            "[99]\tvalidation_0-error:0.144737\n",
            "[100]\tvalidation_0-error:0.131579\n",
            "[101]\tvalidation_0-error:0.131579\n",
            "Stopping. Best iteration:\n",
            "[1]\tvalidation_0-error:0.118421\n",
            "\n",
            "accuracy: 0.881578947368421\n"
          ]
        }
      ]
    },
    {
      "cell_type": "code",
      "source": [
        "grid_search(params={'n_estimators':[2, 25, 50, 75, 100]})"
      ],
      "metadata": {
        "colab": {
          "base_uri": "https://localhost:8080/"
        },
        "id": "eIQJzgKOULRH",
        "outputId": "5d707715-51c0-4442-dd71-63d620bd8f36"
      },
      "execution_count": 30,
      "outputs": [
        {
          "output_type": "stream",
          "name": "stdout",
          "text": [
            "best parameters: {'n_estimators': 75}\n",
            "best score: 0.8022950819672131\n"
          ]
        }
      ]
    },
    {
      "cell_type": "code",
      "source": [
        "grid_search(params={'max_depth':[1, 2, 3, 4, 6, 7, 8],\n",
        "                    'n_estimators':[75]})"
      ],
      "metadata": {
        "colab": {
          "base_uri": "https://localhost:8080/"
        },
        "id": "UA0OByCNUdnf",
        "outputId": "4fd6692f-60fd-4db1-af79-b5e2642b4cd1"
      },
      "execution_count": 32,
      "outputs": [
        {
          "output_type": "stream",
          "name": "stdout",
          "text": [
            "best parameters: {'max_depth': 1, 'n_estimators': 75}\n",
            "best score: 0.8221857923497268\n"
          ]
        }
      ]
    },
    {
      "cell_type": "code",
      "source": [
        "grid_search(params={'max_depth':[1, 2, 3, 4, 6, 7, 8],\n",
        "                    'n_estimators':[2, 50, 75, 100]})"
      ],
      "metadata": {
        "colab": {
          "base_uri": "https://localhost:8080/"
        },
        "id": "lO1HzQAWVmwW",
        "outputId": "71eb689c-bb7d-4525-e82a-b78dd8a07cc5"
      },
      "execution_count": 33,
      "outputs": [
        {
          "output_type": "stream",
          "name": "stdout",
          "text": [
            "best parameters: {'max_depth': 1, 'n_estimators': 100}\n",
            "best score: 0.8254644808743169\n"
          ]
        }
      ]
    },
    {
      "cell_type": "code",
      "source": [
        "grid_search(params={'learning_rate':[0.01, 0.05, 0.1, 0.2, 0.3, 0.4, 0.5], \n",
        "                    'max_depth':[1],\n",
        "                    'n_estimators':[20, 50, 75, 100]})"
      ],
      "metadata": {
        "colab": {
          "base_uri": "https://localhost:8080/"
        },
        "id": "FZ820alxVuUO",
        "outputId": "17235196-2d7f-43db-9552-f77a5cbb4ced"
      },
      "execution_count": 36,
      "outputs": [
        {
          "output_type": "stream",
          "name": "stdout",
          "text": [
            "best parameters: {'learning_rate': 0.3, 'max_depth': 1, 'n_estimators': 50}\n",
            "best score: 0.838688524590164\n"
          ]
        }
      ]
    },
    {
      "cell_type": "code",
      "source": [
        "grid_search(params={'min_child_weight':[1, 2, 3, 4, 5], \n",
        "                    'max_depth':[1],\n",
        "                    'n_estimators':[50]})"
      ],
      "metadata": {
        "colab": {
          "base_uri": "https://localhost:8080/"
        },
        "id": "LlEmoZPjV9wF",
        "outputId": "cb32b771-4e19-49d6-a9ea-bf0efcb73af8"
      },
      "execution_count": 37,
      "outputs": [
        {
          "output_type": "stream",
          "name": "stdout",
          "text": [
            "best parameters: {'max_depth': 1, 'min_child_weight': 1, 'n_estimators': 50}\n",
            "best score: 0.8090163934426229\n"
          ]
        }
      ]
    },
    {
      "cell_type": "code",
      "source": [
        "grid_search(params={'subsample':[0.5, 0.6, 0.7, 0.8, 0.9, 1], \n",
        "                    'max_depth':[1],\n",
        "                    'n_estimators':[50]})"
      ],
      "metadata": {
        "colab": {
          "base_uri": "https://localhost:8080/"
        },
        "id": "Bcwql4v8WPKE",
        "outputId": "76b6d39d-594c-46da-8e3c-11f1faa021fc"
      },
      "execution_count": 38,
      "outputs": [
        {
          "output_type": "stream",
          "name": "stdout",
          "text": [
            "best parameters: {'max_depth': 1, 'n_estimators': 50, 'subsample': 0.8}\n",
            "best score: 0.8253551912568305\n"
          ]
        }
      ]
    },
    {
      "cell_type": "code",
      "source": [
        "grid_search(params={'subsample':[0.5, 0.6, 0.7, 0.8, 0.9, 1],\n",
        "                    'min_child_weight':[1, 2, 3, 4, 5],\n",
        "                    'learning_rate': [0.1, 0.2, 0.3, 0.4, 0.5],\n",
        "                    'max_depth':[1, 2, 3, 4, 5],\n",
        "                    'n_estimators':[2]})"
      ],
      "metadata": {
        "colab": {
          "base_uri": "https://localhost:8080/"
        },
        "id": "VxNfzVagWYLN",
        "outputId": "bbf3af12-f581-4465-f83a-a6e039cb95ae"
      },
      "execution_count": 39,
      "outputs": [
        {
          "output_type": "stream",
          "name": "stdout",
          "text": [
            "best parameters: {'learning_rate': 0.5, 'max_depth': 2, 'min_child_weight': 4, 'n_estimators': 2, 'subsample': 0.9}\n",
            "best score: 0.81224043715847\n"
          ]
        }
      ]
    },
    {
      "cell_type": "code",
      "source": [
        "grid_search(params={'subsample':[0.5, 0.6, 0.7, 0.8, 0.9, 1],\n",
        "                    'min_child_weight':[1, 2, 3, 4, 5],\n",
        "                    'learning_rate': [0.1, 0.2, 0.3, 0.4, 0.5],\n",
        "                    'max_depth':[1, 2, 3, 4, 5, None],\n",
        "                    'n_estimators':[2, 25, 50, 75, 100]}, random=True)"
      ],
      "metadata": {
        "colab": {
          "base_uri": "https://localhost:8080/"
        },
        "id": "BH4zxSiCWmsR",
        "outputId": "6ff2ed0b-cad2-4d46-ed99-08e95c1327ee"
      },
      "execution_count": 42,
      "outputs": [
        {
          "output_type": "stream",
          "name": "stdout",
          "text": [
            "best parameters: {'subsample': 0.6, 'n_estimators': 25, 'min_child_weight': 4, 'max_depth': 4, 'learning_rate': 0.5}\n",
            "best score: 0.8220765027322404\n"
          ]
        },
        {
          "output_type": "stream",
          "name": "stderr",
          "text": [
            "/usr/local/lib/python3.7/dist-packages/sklearn/model_selection/_validation.py:372: FitFailedWarning: \n",
            "10 fits failed out of a total of 100.\n",
            "The score on these train-test partitions for these parameters will be set to nan.\n",
            "If these failures are not expected, you can try to debug them by setting error_score='raise'.\n",
            "\n",
            "Below are more details about the failures:\n",
            "--------------------------------------------------------------------------------\n",
            "10 fits failed with the following error:\n",
            "Traceback (most recent call last):\n",
            "  File \"/usr/local/lib/python3.7/dist-packages/sklearn/model_selection/_validation.py\", line 680, in _fit_and_score\n",
            "    estimator.fit(X_train, y_train, **fit_params)\n",
            "  File \"/usr/local/lib/python3.7/dist-packages/xgboost/sklearn.py\", line 732, in fit\n",
            "    callbacks=callbacks)\n",
            "  File \"/usr/local/lib/python3.7/dist-packages/xgboost/training.py\", line 216, in train\n",
            "    xgb_model=xgb_model, callbacks=callbacks)\n",
            "  File \"/usr/local/lib/python3.7/dist-packages/xgboost/training.py\", line 74, in _train_internal\n",
            "    bst.update(dtrain, i, obj)\n",
            "  File \"/usr/local/lib/python3.7/dist-packages/xgboost/core.py\", line 1109, in update\n",
            "    dtrain.handle))\n",
            "  File \"/usr/local/lib/python3.7/dist-packages/xgboost/core.py\", line 176, in _check_call\n",
            "    raise XGBoostError(py_str(_LIB.XGBGetLastError()))\n",
            "xgboost.core.XGBoostError: Invalid Parameter format for max_depth expect int but value='None'\n",
            "\n",
            "  warnings.warn(some_fits_failed_message, FitFailedWarning)\n",
            "/usr/local/lib/python3.7/dist-packages/sklearn/model_selection/_search.py:972: UserWarning: One or more of the test scores are non-finite: [       nan 0.80224044 0.8120765  0.80557377 0.75590164 0.79224044\n",
            "        nan 0.79557377 0.78907104 0.79551913 0.71961749 0.80229508\n",
            " 0.81224044 0.8220765  0.81546448 0.80879781 0.81546448 0.80224044\n",
            " 0.7495082  0.80535519]\n",
            "  category=UserWarning,\n"
          ]
        }
      ]
    },
    {
      "cell_type": "code",
      "source": [
        "grid_search(params={'colsample_bytree':[0.5, 0.6, 0.7, 0.8, 0.9, 1], \n",
        "                    'max_depth':[1],\n",
        "                    'n_estimators':[50]})"
      ],
      "metadata": {
        "colab": {
          "base_uri": "https://localhost:8080/"
        },
        "id": "gVKDItu3W5Rk",
        "outputId": "b7afaa7a-71b0-4180-c45d-6f5ee35cacdb"
      },
      "execution_count": 46,
      "outputs": [
        {
          "output_type": "stream",
          "name": "stdout",
          "text": [
            "best parameters: {'colsample_bytree': 0.5, 'max_depth': 1, 'n_estimators': 50}\n",
            "best score: 0.8155737704918034\n"
          ]
        }
      ]
    },
    {
      "cell_type": "code",
      "source": [
        "grid_search(params={'colsample_bylevel':[0.5, 0.6, 0.7, 0.8, 0.9, 1], \n",
        "                    'max_depth':[1],\n",
        "                    'n_estimators':[50]})"
      ],
      "metadata": {
        "colab": {
          "base_uri": "https://localhost:8080/"
        },
        "id": "Ge__G1JoXT9X",
        "outputId": "d328fcf3-f878-458d-9bba-4ba8c1f719da"
      },
      "execution_count": 47,
      "outputs": [
        {
          "output_type": "stream",
          "name": "stdout",
          "text": [
            "best parameters: {'colsample_bylevel': 0.5, 'max_depth': 1, 'n_estimators': 50}\n",
            "best score: 0.8155737704918034\n"
          ]
        }
      ]
    },
    {
      "cell_type": "code",
      "source": [
        "grid_search(params={'colsample_bynode':[0.5, 0.6, 0.7, 0.8, 0.9, 1],\n",
        "                    'colsample_bylevel':[0.5, 0.6, 0.7, 0.8, 0.9, 1],\n",
        "                    'colsample_bytree':[0.5, 0.6, 0.7, 0.8, 0.9, 1], \n",
        "                    'max_depth':[1],\n",
        "                    'n_estimators':[50]})"
      ],
      "metadata": {
        "colab": {
          "base_uri": "https://localhost:8080/"
        },
        "id": "RSMC5NuaXy9w",
        "outputId": "3aa7ec4e-e7b0-455a-f79c-ff710bb634a6"
      },
      "execution_count": 48,
      "outputs": [
        {
          "output_type": "stream",
          "name": "stdout",
          "text": [
            "best parameters: {'colsample_bylevel': 0.5, 'colsample_bynode': 0.5, 'colsample_bytree': 0.9, 'max_depth': 1, 'n_estimators': 50}\n",
            "best score: 0.8419125683060109\n"
          ]
        }
      ]
    },
    {
      "cell_type": "code",
      "source": [
        "grid_search(params={'gamma':[0, 0.01, 0.05, 0.1, 0.5, 1, 2, 3],\n",
        "                    'colsample_bynode':[0.5],\n",
        "                    'colsample_bylevel':[0.5],\n",
        "                    'colsample_bytree':[0.9], \n",
        "                    'max_depth':[1],\n",
        "                    'n_estimators':[50]})"
      ],
      "metadata": {
        "colab": {
          "base_uri": "https://localhost:8080/"
        },
        "id": "e-vziZlMX7us",
        "outputId": "3221dd5e-cf83-459d-d365-feabe2990e4b"
      },
      "execution_count": 49,
      "outputs": [
        {
          "output_type": "stream",
          "name": "stdout",
          "text": [
            "best parameters: {'colsample_bylevel': 0.5, 'colsample_bynode': 0.5, 'colsample_bytree': 0.9, 'gamma': 0, 'max_depth': 1, 'n_estimators': 50}\n",
            "best score: 0.8419125683060109\n"
          ]
        }
      ]
    },
    {
      "cell_type": "code",
      "source": [
        ""
      ],
      "metadata": {
        "id": "YhhT_R3HYR_H"
      },
      "execution_count": null,
      "outputs": []
    }
  ]
}